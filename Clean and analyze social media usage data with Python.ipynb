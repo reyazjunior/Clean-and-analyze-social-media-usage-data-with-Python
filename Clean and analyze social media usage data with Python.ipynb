{
 "cells": [
  {
   "cell_type": "markdown",
   "id": "b2da94b5",
   "metadata": {},
   "source": [
    "# Clean and analyze social media usage data with Python"
   ]
  },
  {
   "cell_type": "markdown",
   "id": "0d212cb7",
   "metadata": {},
   "source": [
    "## Introduction\n",
    "\n",
    "Social media has become a ubiquitous part of modern life, with platforms such as Instagram, Twitter, and Facebook serving as essential communication channels. Social media data sets are vast and complex, making analysis a challenging task for businesses and researchers alike. In this project, we explore a simulated social media, for example Tweets, data set to understand trends in likes across different categories.\n",
    "\n",
    "## Prerequisites\n",
    "\n",
    "To follow along with this project, you should have a basic understanding of Python programming and data analysis concepts. In addition, you may want to use the following packages in your Python environment:\n",
    "\n",
    "- pandas\n",
    "- Matplotlib\n",
    "- numpy\n",
    "- seaborn\n",
    "- random\n",
    "\n",
    "\n",
    "## Project Scope\n",
    "\n",
    "The objective of this project is to analyze tweets (or other social media data) and gain insights into user engagement. We will explore the data set using visualization techniques to understand the distribution of likes across different categories. Finally, we will analyze the data to draw conclusions about the most popular categories and the overall engagement on the platform.\n",
    "\n",
    "## Step 1: Importing Required Libraries\n",
    "\n",
    "As the name suggests, the first step is to import all the necessary libraries that will be used in the project. In this case, we need pandas, numpy, matplotlib, seaborn, and random libraries.\n",
    "\n",
    "Pandas is a library used for data manipulation and analysis. Numpy is a library used for numerical computations. Matplotlib is a library used for data visualization. Seaborn is a library used for statistical data visualization. Random is a library used to generate random numbers."
   ]
  },
  {
   "cell_type": "code",
   "execution_count": 1,
   "id": "90be469c",
   "metadata": {},
   "outputs": [],
   "source": [
    "import pandas as pd\n",
    "import numpy as np\n",
    "import matplotlib.pyplot as plt\n",
    "import seaborn as sns\n",
    "import random"
   ]
  },
  {
   "cell_type": "markdown",
   "id": "326082e1",
   "metadata": {},
   "source": [
    "## Step 2: Generate random data for the social media data"
   ]
  },
  {
   "cell_type": "code",
   "execution_count": 2,
   "id": "345e540d",
   "metadata": {},
   "outputs": [],
   "source": [
    "categories = ['Food', 'Travel', 'Fashion', 'Fitness', 'Music', 'Culture', 'Family', 'Health']\n",
    "n = 500\n",
    "data = {\n",
    "    'Date': pd.date_range('2021-01-01', periods=n),\n",
    "    'Category': [random.choice(categories) for _ in range(n)],\n",
    "    'Likes': np.random.randint(0, 10000, size=n)\n",
    "}"
   ]
  },
  {
   "cell_type": "markdown",
   "id": "f67ca439",
   "metadata": {},
   "source": [
    "## Step 3: Load the data into a Pandas DataFrame and Explore the data"
   ]
  },
  {
   "cell_type": "code",
   "execution_count": 3,
   "id": "6dee8c5c",
   "metadata": {},
   "outputs": [
    {
     "name": "stdout",
     "output_type": "stream",
     "text": [
      "        Date Category  Likes\n",
      "0 2021-01-01   Health   5290\n",
      "1 2021-01-02  Culture   4976\n",
      "2 2021-01-03    Music   1516\n",
      "3 2021-01-04    Music   2276\n",
      "4 2021-01-05  Fashion   7052\n",
      "<class 'pandas.core.frame.DataFrame'>\n",
      "RangeIndex: 500 entries, 0 to 499\n",
      "Data columns (total 3 columns):\n",
      " #   Column    Non-Null Count  Dtype         \n",
      "---  ------    --------------  -----         \n",
      " 0   Date      500 non-null    datetime64[ns]\n",
      " 1   Category  500 non-null    object        \n",
      " 2   Likes     500 non-null    int32         \n",
      "dtypes: datetime64[ns](1), int32(1), object(1)\n",
      "memory usage: 9.9+ KB\n",
      "None\n",
      "                      Date        Likes\n",
      "count                  500   500.000000\n",
      "mean   2021-09-07 12:00:00  4843.756000\n",
      "min    2021-01-01 00:00:00    19.000000\n",
      "25%    2021-05-05 18:00:00  2270.250000\n",
      "50%    2021-09-07 12:00:00  4704.500000\n",
      "75%    2022-01-10 06:00:00  7390.750000\n",
      "max    2022-05-15 00:00:00  9984.000000\n",
      "std                    NaN  2928.472685\n",
      "Category\n",
      "Culture    76\n",
      "Health     66\n",
      "Food       64\n",
      "Music      63\n",
      "Fitness    61\n",
      "Fashion    58\n",
      "Family     57\n",
      "Travel     55\n",
      "Name: count, dtype: int64\n"
     ]
    }
   ],
   "source": [
    "# Load data into DataFrame\n",
    "df = pd.DataFrame(data)\n",
    "\n",
    "# Print DataFrame head\n",
    "print(df.head())\n",
    "\n",
    "# Print DataFrame info\n",
    "print(df.info())\n",
    "\n",
    "# Print DataFrame description\n",
    "print(df.describe())\n",
    "\n",
    "# Print count of each 'Category' element\n",
    "print(df['Category'].value_counts())"
   ]
  },
  {
   "cell_type": "markdown",
   "id": "8d9438e8",
   "metadata": {},
   "source": [
    "## Step 4: Clean the data"
   ]
  },
  {
   "cell_type": "code",
   "execution_count": 4,
   "id": "d02137c1",
   "metadata": {},
   "outputs": [],
   "source": [
    "# Remove null data\n",
    "df = df.dropna()\n",
    "\n",
    "# Remove duplicate data\n",
    "df = df.drop_duplicates()\n",
    "\n",
    "# Convert 'Date' field to datetime format\n",
    "df['Date'] = pd.to_datetime(df['Date'])\n",
    "\n",
    "# Convert 'Likes' data to integer\n",
    "df['Likes'] = df['Likes'].astype(int)"
   ]
  },
  {
   "cell_type": "markdown",
   "id": "a89119a8",
   "metadata": {},
   "source": [
    "## Step 5: Visualize and Analyze the data"
   ]
  },
  {
   "cell_type": "code",
   "execution_count": 5,
   "id": "c3d376e2",
   "metadata": {},
   "outputs": [
    {
     "name": "stderr",
     "output_type": "stream",
     "text": [
      "C:\\ProgramData\\anaconda3\\Lib\\site-packages\\seaborn\\_oldcore.py:1119: FutureWarning: use_inf_as_na option is deprecated and will be removed in a future version. Convert inf values to NaN before operating instead.\n",
      "  with pd.option_context('mode.use_inf_as_na', True):\n"
     ]
    },
    {
     "data": {
      "image/png": "[encoded data removed]",
      "text/plain": [
       "<Figure size 640x480 with 1 Axes>"
      ]
     },
     "metadata": {},
     "output_type": "display_data"
    },
    {
     "data": {
      "image/png": "[encoded data removed]",
      "text/plain": [
       "<Figure size 640x480 with 1 Axes>"
      ]
     },
     "metadata": {},
     "output_type": "display_data"
    },
    {
     "name": "stdout",
     "output_type": "stream",
     "text": [
      "Mean likes: 4843.756\n",
      "Category\n",
      "Culture    5025.552632\n",
      "Family     4850.052632\n",
      "Fashion    4520.844828\n",
      "Fitness    5054.852459\n",
      "Food       4304.687500\n",
      "Health     4698.696970\n",
      "Music      5384.142857\n",
      "Travel     4874.781818\n",
      "Name: Likes, dtype: float64\n"
     ]
    }
   ],
   "source": [
    "# Visualize data using histogram\n",
    "sns.histplot(df['Likes'])\n",
    "plt.show()\n",
    "\n",
    "# Create boxplot\n",
    "sns.boxplot(x='Category', y='Likes', data=df)\n",
    "plt.show()\n",
    "\n",
    "# Print mean of 'Likes'\n",
    "print(\"Mean likes:\", df['Likes'].mean())\n",
    "\n",
    "# Print mean of each Category 'Likes'\n",
    "print(df.groupby('Category')['Likes'].mean())"
   ]
  },
  {
   "cell_type": "markdown",
   "id": "5b06e0d2",
   "metadata": {},
   "source": [
    "## Conclusions\n",
    "\n",
    "While this project provides a solid foundation for social media data analysis, there are several avenues for improvement and future exploration:\n",
    "\n",
    "- Incorporating more sophisticated data generation techniques to simulate realistic user behavior.\n",
    "- Experimenting with different visualization methods to uncover deeper insights into user engagement patterns.\n",
    "- Conducting sentiment analysis on text data associated with social media posts to understand user sentiment towards different categories.\n",
    "- Implementing machine learning algorithms for predictive analytics, such as predicting future likes based on historical data."
   ]
  }
 ],
 "metadata": {
  "kernelspec": {
   "display_name": "Python 3 (ipykernel)",
   "language": "python",
   "name": "python3"
  },
  "language_info": {
   "codemirror_mode": {
    "name": "ipython",
    "version": 3
   },
   "file_extension": ".py",
   "mimetype": "text/x-python",
   "name": "python",
   "nbconvert_exporter": "python",
   "pygments_lexer": "ipython3",
   "version": "3.11.7"
  }
 },
 "nbformat": 4,
 "nbformat_minor": 5
}
